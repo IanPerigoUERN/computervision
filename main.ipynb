{
  "nbformat": 4,
  "nbformat_minor": 0,
  "metadata": {
    "colab": {
      "provenance": [],
      "authorship_tag": "ABX9TyMXNczF4EYtFdFaqWWjd4g8",
      "include_colab_link": true
    },
    "kernelspec": {
      "name": "python3",
      "display_name": "Python 3"
    },
    "language_info": {
      "name": "python"
    }
  },
  "cells": [
    {
      "cell_type": "markdown",
      "metadata": {
        "id": "view-in-github",
        "colab_type": "text"
      },
      "source": [
        "<a href=\"https://colab.research.google.com/github/IanPerigoUERN/computervision/blob/ian/main.ipynb\" target=\"_parent\"><img src=\"https://colab.research.google.com/assets/colab-badge.svg\" alt=\"Open In Colab\"/></a>"
      ]
    },
    {
      "cell_type": "markdown",
      "source": [
        "# Tutorial para aprendizado das bases de visão computacional\n",
        "## Participantes:\n",
        "### Ian Périgo, Maria Janaína e Yuri Aquino\n",
        "\n",
        "### Github:\n",
        "https://github.com/IanPerigoUERN\n",
        "\n",
        "https://github.com/janainagois\n",
        "\n",
        "https://github.com/yca-git\n",
        "\n"
      ],
      "metadata": {
        "id": "pjO42Sgg-dRi"
      }
    },
    {
      "cell_type": "markdown",
      "source": [
        "# Conteúdo Base:\n",
        "## Introdução à Visão Computacional com Python e OpenCV\" – Diego Mariano\n",
        "## Documentação do OpenCV: https://docs.opencv.org/4.x/d6/d00/tutorial_py_root.html\n",
        "## Playlist programação dinâmica: https://www.youtube.com/watch?v=RSkbjZZb-1c&list=PL5TJqBvpXQv729nb3vdeP4E87hLark5q9\n",
        ""
      ],
      "metadata": {
        "id": "lBgR7EkB_tGf"
      }
    },
    {
      "cell_type": "code",
      "execution_count": 1,
      "metadata": {
        "id": "9A2ChCa1-cHB"
      },
      "outputs": [],
      "source": [
        "import numpy as np\n",
        "import matplotlib.pyplot as plt\n",
        "import cv2"
      ]
    },
    {
      "cell_type": "code",
      "source": [
        "print (cv2.__version__)"
      ],
      "metadata": {
        "colab": {
          "base_uri": "https://localhost:8080/"
        },
        "id": "fF_84HFEEhhO",
        "outputId": "b59c3b1e-ca4e-4857-849e-27df925d48a4"
      },
      "execution_count": 3,
      "outputs": [
        {
          "output_type": "stream",
          "name": "stdout",
          "text": [
            "4.11.0\n"
          ]
        }
      ]
    },
    {
      "cell_type": "code",
      "source": [],
      "metadata": {
        "id": "JsZiO7pHElkV"
      },
      "execution_count": null,
      "outputs": []
    }
  ]
}